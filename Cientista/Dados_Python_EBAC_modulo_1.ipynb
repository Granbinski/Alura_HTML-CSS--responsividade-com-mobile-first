{
  "nbformat": 4,
  "nbformat_minor": 0,
  "metadata": {
    "colab": {
      "provenance": [],
      "authorship_tag": "ABX9TyOjYzJRD3J3X/rpVHotj9bg",
      "include_colab_link": true
    },
    "kernelspec": {
      "name": "python3",
      "display_name": "Python 3"
    },
    "language_info": {
      "name": "python"
    }
  },
  "cells": [
    {
      "cell_type": "markdown",
      "metadata": {
        "id": "view-in-github",
        "colab_type": "text"
      },
      "source": [
        "<a href=\"https://colab.research.google.com/github/Granbinski/Alura_HTML-CSS--responsividade-com-mobile-first/blob/main/Cientista/Dados_Python_EBAC_modulo_1.ipynb\" target=\"_parent\"><img src=\"https://colab.research.google.com/assets/colab-badge.svg\" alt=\"Open In Colab\"/></a>"
      ]
    },
    {
      "cell_type": "code",
      "execution_count": null,
      "metadata": {
        "colab": {
          "base_uri": "https://localhost:8080/"
        },
        "id": "Qc2daXspty38",
        "outputId": "89d63fa9-f19f-498c-8fc3-97cc91d870ad"
      },
      "outputs": [
        {
          "output_type": "stream",
          "name": "stdout",
          "text": [
            "Hello World!!\n"
          ]
        }
      ],
      "source": [
        "#@title\n",
        "print(\"Hello World!!\")"
      ]
    },
    {
      "cell_type": "code",
      "source": [
        "idade = 27\n",
        "print(idade)\n",
        "\n",
        "nome = \"Inacio\"\n",
        "print(nome)"
      ],
      "metadata": {
        "colab": {
          "base_uri": "https://localhost:8080/"
        },
        "id": "L29EC0IjyvfE",
        "outputId": "3cec73ec-6a67-4807-ad63-22832096067d"
      },
      "execution_count": 5,
      "outputs": [
        {
          "output_type": "stream",
          "name": "stdout",
          "text": [
            "27\n",
            "Inacio\n"
          ]
        }
      ]
    },
    {
      "cell_type": "code",
      "source": [
        "# numericos \n",
        "preco = 1000\n",
        "tipo_preco = type(preco)\n",
        "\n",
        "print(preco)\n",
        "print(tipo_preco)\n",
        "\n",
        "juros = 0.5\n",
        "tipo_juros = type(juros)\n",
        "\n",
        "print(juros)\n",
        "print(tipo_juros)"
      ],
      "metadata": {
        "colab": {
          "base_uri": "https://localhost:8080/"
        },
        "id": "MkN9FcuD29k-",
        "outputId": "45178d31-3680-4b94-d258-4ef6bba3cdbd"
      },
      "execution_count": 6,
      "outputs": [
        {
          "output_type": "stream",
          "name": "stdout",
          "text": [
            "1000\n",
            "<class 'int'>\n",
            "0.5\n",
            "<class 'float'>\n"
          ]
        }
      ]
    },
    {
      "cell_type": "code",
      "source": [
        "# textos/string(str)\n",
        "primeiro_nome = \"Inacio\"\n",
        "\n",
        "print(primeiro_nome)\n",
        "print(type(primeiro_nome))"
      ],
      "metadata": {
        "colab": {
          "base_uri": "https://localhost:8080/"
        },
        "id": "abw7AYdq3ra1",
        "outputId": "88a7b4e9-44ed-4e98-bcaf-d56f58f23cc9"
      },
      "execution_count": 7,
      "outputs": [
        {
          "output_type": "stream",
          "name": "stdout",
          "text": [
            "Inacio\n",
            "<class 'str'>\n"
          ]
        }
      ]
    },
    {
      "cell_type": "code",
      "source": [
        "# logico/bool\n",
        "usuario_maior_de_idade = False\n",
        "print(type(usuario_maior_de_idade))"
      ],
      "metadata": {
        "colab": {
          "base_uri": "https://localhost:8080/"
        },
        "id": "BWcAyTnH37IZ",
        "outputId": "a1dca24c-c3e7-4482-d358-8b233ec1b7fc"
      },
      "execution_count": 8,
      "outputs": [
        {
          "output_type": "stream",
          "name": "stdout",
          "text": [
            "<class 'bool'>\n"
          ]
        }
      ]
    },
    {
      "cell_type": "code",
      "source": [
        "# vazio/none\n",
        "telefone_fixo = None\n",
        "print(telefone_fixo)\n",
        "print(type(telefone_fixo))"
      ],
      "metadata": {
        "colab": {
          "base_uri": "https://localhost:8080/"
        },
        "id": "q2MyFrot4JxJ",
        "outputId": "b3e8b32b-cca3-402a-ad1f-8a1b4858b700"
      },
      "execution_count": 9,
      "outputs": [
        {
          "output_type": "stream",
          "name": "stdout",
          "text": [
            "None\n",
            "<class 'NoneType'>\n"
          ]
        }
      ]
    },
    {
      "cell_type": "code",
      "source": [
        "# valores numericos\n",
        "\n",
        "print(type(37))\n",
        "print(type(10.1))\n",
        "print(type(1 + 2j))"
      ],
      "metadata": {
        "colab": {
          "base_uri": "https://localhost:8080/"
        },
        "id": "3XlsWcw96BLc",
        "outputId": "f7447ab1-8f17-4fd6-ddfa-2653153215bc"
      },
      "execution_count": 10,
      "outputs": [
        {
          "output_type": "stream",
          "name": "stdout",
          "text": [
            "<class 'int'>\n",
            "<class 'float'>\n",
            "<class 'complex'>\n"
          ]
        }
      ]
    },
    {
      "cell_type": "code",
      "source": [
        "qtd_items_carrinho_compra = 0\n",
        "qtd_items_carrinho_compra = qtd_items_carrinho_compra + 1\n",
        "print(qtd_items_carrinho_compra)\n",
        "qtd_items_carrinho_compra = qtd_items_carrinho_compra + 1\n",
        "print(qtd_items_carrinho_compra)"
      ],
      "metadata": {
        "colab": {
          "base_uri": "https://localhost:8080/"
        },
        "id": "lbg5zvox6n-f",
        "outputId": "c7c00e4c-d46a-4a44-f995-d7c2ad17e480"
      },
      "execution_count": 11,
      "outputs": [
        {
          "output_type": "stream",
          "name": "stdout",
          "text": [
            "1\n",
            "2\n"
          ]
        }
      ]
    },
    {
      "cell_type": "code",
      "source": [
        "qtd_items_carrinho_compra = 0\n",
        "qtd_items_carrinho_compra += 1\n",
        "print(qtd_items_carrinho_compra)\n",
        "qtd_items_carrinho_compra += 1\n",
        "print(qtd_items_carrinho_compra)"
      ],
      "metadata": {
        "colab": {
          "base_uri": "https://localhost:8080/"
        },
        "id": "buskVhwY6qav",
        "outputId": "ffab77e8-537e-4622-843a-9f73389a7c09"
      },
      "execution_count": 12,
      "outputs": [
        {
          "output_type": "stream",
          "name": "stdout",
          "text": [
            "1\n",
            "2\n"
          ]
        }
      ]
    },
    {
      "cell_type": "code",
      "source": [
        "preco = 47\n",
        "quantidade = 0.250\n",
        "total_a_pagar = quantidade * preco\n",
        "print(total_a_pagar)"
      ],
      "metadata": {
        "colab": {
          "base_uri": "https://localhost:8080/"
        },
        "id": "dYhRisgg6wEY",
        "outputId": "d2e94301-4e4d-420f-8479-899892c3c0a2"
      },
      "execution_count": 13,
      "outputs": [
        {
          "output_type": "stream",
          "name": "stdout",
          "text": [
            "11.75\n"
          ]
        }
      ]
    },
    {
      "cell_type": "code",
      "source": [
        "a = 3\n",
        "b = 2\n",
        "c = a / b\n",
        "print(c)\n",
        "print(type(c))\n",
        "d = a // b\n",
        "print(d)\n",
        "print(type(d))\n"
      ],
      "metadata": {
        "colab": {
          "base_uri": "https://localhost:8080/"
        },
        "id": "Rla4kwfT6zKw",
        "outputId": "e07ee831-71d7-4054-86b6-855d163dfd4b"
      },
      "execution_count": 14,
      "outputs": [
        {
          "output_type": "stream",
          "name": "stdout",
          "text": [
            "1.5\n",
            "<class 'float'>\n",
            "1\n",
            "<class 'int'>\n"
          ]
        }
      ]
    },
    {
      "cell_type": "code",
      "source": [
        "print(int(3.9))\n",
        "\n",
        "print(float(10))\n",
        "\n",
        "print(complex(1))"
      ],
      "metadata": {
        "colab": {
          "base_uri": "https://localhost:8080/"
        },
        "id": "fcVkmdU-60MR",
        "outputId": "5d9458a1-2507-4486-aa98-e1ae7b61f0c2"
      },
      "execution_count": 15,
      "outputs": [
        {
          "output_type": "stream",
          "name": "stdout",
          "text": [
            "3\n",
            "10.0\n",
            "(1+0j)\n"
          ]
        }
      ]
    },
    {
      "cell_type": "code",
      "source": [
        "# Ticket médio diário do dia 19/01.\n",
        "\n",
        "svv_19 = 153.98\n",
        "sqv_19 = 3\n",
        "tkt_19 = svv_19 / sqv_19\n",
        "print(tkt_19)"
      ],
      "metadata": {
        "id": "lpfv6Vqw7UR7"
      },
      "execution_count": null,
      "outputs": []
    },
    {
      "cell_type": "markdown",
      "source": [
        "Strings:\n"
      ],
      "metadata": {
        "id": "m51Zt0XZgSMF"
      }
    },
    {
      "cell_type": "code",
      "source": [
        "# sua empresa\n",
        "lat = '-22.005320'\n",
        "lon = '-47.891040'\n",
        "\n",
        "# startup  adquirida\n",
        "latlon = '-22.005320, -47.891040'"
      ],
      "metadata": {
        "id": "KtGaGi5wgkzR"
      },
      "execution_count": 16,
      "outputs": []
    },
    {
      "cell_type": "code",
      "source": [
        "# concatenacao\n",
        "\n",
        "nome = 'Inacio'\n",
        "sobrenome = 'Grandini Ulbinski'\n",
        "\n",
        "apresentacao = 'Ola, meu nome e ' + nome + ' ' + sobrenome + '.'\n",
        "print(apresentacao)\n",
        "apresentacao_2 = f'Ola, meu nome e {nome} {sobrenome}.'\n",
        "print(apresentacao_2)"
      ],
      "metadata": {
        "colab": {
          "base_uri": "https://localhost:8080/"
        },
        "id": "gTgSxa9Zhj9N",
        "outputId": "25d76ad3-0ac3-4f24-e697-e53f8a309f41"
      },
      "execution_count": 25,
      "outputs": [
        {
          "output_type": "stream",
          "name": "stdout",
          "text": [
            "Ola, meu nome e Inacio Grandini Ulbinski.\n",
            "Ola, meu nome e Inacio Grandini Ulbinski.\n"
          ]
        }
      ]
    },
    {
      "cell_type": "code",
      "source": [
        "email = 'teste@gmail.com'\n",
        "print('0: ' + email[0])\n",
        "print('5: ' + email[5])\n",
        "print('-1: '+ email[-1])\n",
        "email_usuario = email[0:5]\n",
        "print(email_usuario)"
      ],
      "metadata": {
        "colab": {
          "base_uri": "https://localhost:8080/"
        },
        "id": "eOTQ92QSjmCs",
        "outputId": "25f3ab8a-a2ad-40cf-c720-38c1ea030c25"
      },
      "execution_count": 30,
      "outputs": [
        {
          "output_type": "stream",
          "name": "stdout",
          "text": [
            "0: t\n",
            "5: @\n",
            "-1: m\n",
            "teste\n"
          ]
        }
      ]
    }
  ]
}